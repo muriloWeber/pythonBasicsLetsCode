{
 "cells": [
  {
   "cell_type": "markdown",
   "id": "50afac18",
   "metadata": {},
   "source": [
    "exchangerate-api.com/docs/free-exchange-rate-api"
   ]
  },
  {
   "cell_type": "code",
   "execution_count": 1,
   "id": "0f139ded",
   "metadata": {},
   "outputs": [
    {
     "name": "stdout",
     "output_type": "stream",
     "text": [
      "Requirement already satisfied: requests in c:\\users\\murilo.weber\\anaconda3\\lib\\site-packages (2.27.1)\n",
      "Requirement already satisfied: certifi>=2017.4.17 in c:\\users\\murilo.weber\\anaconda3\\lib\\site-packages (from requests) (2021.10.8)\n",
      "Requirement already satisfied: idna<4,>=2.5 in c:\\users\\murilo.weber\\anaconda3\\lib\\site-packages (from requests) (3.3)\n",
      "Requirement already satisfied: charset-normalizer~=2.0.0 in c:\\users\\murilo.weber\\anaconda3\\lib\\site-packages (from requests) (2.0.4)\n",
      "Requirement already satisfied: urllib3<1.27,>=1.21.1 in c:\\users\\murilo.weber\\anaconda3\\lib\\site-packages (from requests) (1.26.9)\n"
     ]
    }
   ],
   "source": [
    "!pip install requests"
   ]
  },
  {
   "cell_type": "code",
   "execution_count": 2,
   "id": "53687a1e",
   "metadata": {},
   "outputs": [],
   "source": [
    "import requests"
   ]
  },
  {
   "cell_type": "code",
   "execution_count": 3,
   "id": "d9cf63b1",
   "metadata": {},
   "outputs": [],
   "source": [
    "url = 'https://api.exchangerate-api.com/v6/latest'"
   ]
  },
  {
   "cell_type": "code",
   "execution_count": 4,
   "id": "20ac0052",
   "metadata": {},
   "outputs": [
    {
     "name": "stdout",
     "output_type": "stream",
     "text": [
      "200\n"
     ]
    }
   ],
   "source": [
    "req = requests.get(url)\n",
    "\n",
    "print(req.status_code)"
   ]
  },
  {
   "cell_type": "code",
   "execution_count": 5,
   "id": "bd13da45",
   "metadata": {},
   "outputs": [
    {
     "name": "stdout",
     "output_type": "stream",
     "text": [
      "{'result': 'success', 'provider': 'https://www.exchangerate-api.com', 'documentation': 'https://www.exchangerate-api.com/docs/free', 'terms_of_use': 'https://www.exchangerate-api.com/terms', 'time_last_update_unix': 1662940952, 'time_last_update_utc': 'Mon, 12 Sep 2022 00:02:32 +0000', 'time_next_update_unix': 1663029342, 'time_next_update_utc': 'Tue, 13 Sep 2022 00:35:42 +0000', 'time_eol_unix': 0, 'base_code': 'USD', 'rates': {'USD': 1, 'AED': 3.6725, 'AFN': 88.49357, 'ALL': 118.020028, 'AMD': 404.871282, 'ANG': 1.79, 'AOA': 428.267336, 'ARS': 141.769684, 'AUD': 1.46079, 'AWG': 1.79, 'AZN': 1.707599, 'BAM': 1.94448, 'BBD': 2, 'BDT': 94.293842, 'BGN': 1.944513, 'BHD': 0.376, 'BIF': 2040.88038, 'BMD': 1, 'BND': 1.397197, 'BOB': 6.930272, 'BRL': 5.189782, 'BSD': 1, 'BTN': 79.685675, 'BWP': 13.023338, 'BYN': 2.621396, 'BZD': 2, 'CAD': 1.301472, 'CDF': 2018.535283, 'CHF': 0.959845, 'CLP': 885.527374, 'CNY': 6.938648, 'COP': 4428.002729, 'CRC': 657.335304, 'CUP': 24, 'CVE': 109.62513, 'CZK': 24.41619, 'DJF': 177.721, 'DKK': 7.417087, 'DOP': 53.2097, 'DZD': 141.49778, 'EGP': 19.371551, 'ERN': 15, 'ETB': 52.664941, 'EUR': 0.994208, 'FJD': 2.215259, 'FKP': 0.862424, 'FOK': 7.417087, 'GBP': 0.862438, 'GEL': 2.847138, 'GGP': 0.862424, 'GHS': 10.214775, 'GIP': 0.862424, 'GMD': 55.743827, 'GNF': 8645.360779, 'GTQ': 7.780579, 'GYD': 209.441414, 'HKD': 7.854756, 'HNL': 24.684178, 'HRK': 7.490777, 'HTG': 120.196943, 'HUF': 393.676247, 'IDR': 14744.063651, 'ILS': 3.425534, 'IMP': 0.862424, 'INR': 79.687675, 'IQD': 1461.262578, 'IRR': 41926.24511, 'ISK': 139.477076, 'JEP': 0.862424, 'JMD': 151.373501, 'JOD': 0.709, 'JPY': 142.736282, 'KES': 120.76377, 'KGS': 81.583202, 'KHR': 4120.405917, 'KID': 1.460782, 'KMF': 489.112852, 'KRW': 1376.737092, 'KWD': 0.29963, 'KYD': 0.833333, 'KZT': 474.844338, 'LAK': 17720.337017, 'LBP': 1507.5, 'LKR': 353.52013, 'LRD': 154.37004, 'LSL': 17.263594, 'LYD': 4.959788, 'MAD': 10.729078, 'MDL': 19.442242, 'MGA': 4123.610739, 'MKD': 61.389743, 'MMK': 2732.196274, 'MNT': 3219.328658, 'MOP': 8.090362, 'MRU': 37.797682, 'MUR': 43.639853, 'MVR': 15.3828, 'MWK': 1033.22329, 'MXN': 19.914109, 'MYR': 4.469037, 'MZN': 64.596477, 'NAD': 17.263594, 'NGN': 427.143168, 'NIO': 36.00544, 'NOK': 9.900584, 'NPR': 127.49708, 'NZD': 1.637888, 'OMR': 0.384497, 'PAB': 1, 'PEN': 3.895934, 'PGK': 3.539575, 'PHP': 56.755504, 'PKR': 228.941417, 'PLN': 4.658219, 'PYG': 6932.224558, 'QAR': 3.64, 'RON': 4.861148, 'RSD': 116.912988, 'RUB': 60.525489, 'RWF': 1059.785844, 'SAR': 3.75, 'SBD': 8.029338, 'SCR': 12.941387, 'SDG': 565.193087, 'SEK': 10.596343, 'SGD': 1.397217, 'SHP': 0.862424, 'SLE': 14.335087, 'SLL': 14335.087214, 'SOS': 569.114115, 'SRD': 26.054512, 'SSP': 650.521146, 'STN': 24.357826, 'SYP': 2523.899289, 'SZL': 17.263594, 'THB': 36.521368, 'TJS': 10.246658, 'TMT': 3.499308, 'TND': 3.148699, 'TOP': 2.345287, 'TRY': 18.249753, 'TTD': 6.791098, 'TVD': 1.460782, 'TWD': 30.72919, 'TZS': 2330.314422, 'UAH': 37.058911, 'UGX': 3815.848833, 'UYU': 41.126432, 'UZS': 10969.900464, 'VES': 7.9835, 'VND': 23538.720975, 'VUV': 116.80188, 'WST': 2.73879, 'XAF': 652.150469, 'XCD': 2.7, 'XDR': 0.765886, 'XOF': 652.150469, 'XPF': 118.639514, 'YER': 251.454232, 'ZAR': 17.263673, 'ZMW': 15.492269, 'ZWL': 581.502991}}\n"
     ]
    }
   ],
   "source": [
    "dados = req.json()\n",
    "\n",
    "print(dados)"
   ]
  },
  {
   "cell_type": "code",
   "execution_count": 7,
   "id": "8290af0f",
   "metadata": {},
   "outputs": [
    {
     "name": "stdout",
     "output_type": "stream",
     "text": [
      "Informe o valor em R$ a ser convertido\n",
      "100\n",
      "R$100.0 em dólar valem US$ 19.27\n"
     ]
    }
   ],
   "source": [
    "valor_reais = float(input('Informe o valor em R$ a ser convertido\\n'))\n",
    "cotacao = dados['rates']['BRL']\n",
    "print(f'R${valor_reais} em dólar valem US$ {(valor_reais / cotacao):.2f}')"
   ]
  },
  {
   "cell_type": "code",
   "execution_count": null,
   "id": "733bb39c",
   "metadata": {},
   "outputs": [],
   "source": []
  }
 ],
 "metadata": {
  "kernelspec": {
   "display_name": "Python 3 (ipykernel)",
   "language": "python",
   "name": "python3"
  },
  "language_info": {
   "codemirror_mode": {
    "name": "ipython",
    "version": 3
   },
   "file_extension": ".py",
   "mimetype": "text/x-python",
   "name": "python",
   "nbconvert_exporter": "python",
   "pygments_lexer": "ipython3",
   "version": "3.9.12"
  }
 },
 "nbformat": 4,
 "nbformat_minor": 5
}
