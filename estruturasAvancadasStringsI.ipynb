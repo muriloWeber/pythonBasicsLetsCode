{
 "cells": [
  {
   "cell_type": "code",
   "execution_count": null,
   "id": "fb70d5ff",
   "metadata": {},
   "outputs": [],
   "source": [
    "# Strings\n",
    "\n",
    "empresa = 'Google'\n",
    "print(empresa)"
   ]
  },
  {
   "cell_type": "code",
   "execution_count": null,
   "id": "92a32d1e",
   "metadata": {},
   "outputs": [],
   "source": [
    "empresa = \"Google\"\n",
    "print(empresa)"
   ]
  },
  {
   "cell_type": "code",
   "execution_count": null,
   "id": "acd728c3",
   "metadata": {},
   "outputs": [],
   "source": [
    "empresa = 'Let's Code'\n",
    "print(empresa)"
   ]
  },
  {
   "cell_type": "code",
   "execution_count": null,
   "id": "8b981226",
   "metadata": {},
   "outputs": [],
   "source": [
    "empresa = \"Let's Code\"\n",
    "print(empresa)"
   ]
  },
  {
   "cell_type": "code",
   "execution_count": null,
   "id": "92d1d4ab",
   "metadata": {},
   "outputs": [],
   "source": [
    "frase = \"O professor Pietro da Let's Code disse: \\\"Hoje a pizza é por minha conta\\\"\" # usar a contrabarra para escapar o \n",
    "                                                                                     #caractere \"\" nesse contexto\n",
    "print(frase)"
   ]
  },
  {
   "cell_type": "code",
   "execution_count": null,
   "id": "19bee515",
   "metadata": {},
   "outputs": [],
   "source": [
    "empresa = 'Google'\n",
    "print(empresa[0])"
   ]
  },
  {
   "cell_type": "code",
   "execution_count": null,
   "id": "e21bfdae",
   "metadata": {},
   "outputs": [],
   "source": [
    "print(empresa[:3])"
   ]
  },
  {
   "cell_type": "code",
   "execution_count": null,
   "id": "39b623d6",
   "metadata": {},
   "outputs": [],
   "source": [
    "nomes_cidades = \"São Paulo, Belo Horizonte, Rio de Janeiro, Brasília\"\n",
    "\n",
    "# método split para strings\n",
    "\n",
    "nomes_cidades = nomes_cidades.split(', ')\n",
    "print(nomes_cidades)"
   ]
  },
  {
   "cell_type": "code",
   "execution_count": null,
   "id": "e3dc7020",
   "metadata": {},
   "outputs": [],
   "source": [
    "# Formatação das Strings - método strip tira excesso de espaçõs do início e final\n",
    "\n",
    "cabecalho = \"          MENU PRINCIPAL         \"\n",
    "print(cabecalho.strip())"
   ]
  },
  {
   "cell_type": "code",
   "execution_count": null,
   "id": "f75791c1",
   "metadata": {},
   "outputs": [],
   "source": [
    "# métodos para lidar com caixa\n",
    "\n",
    "nome_cidade = 'rIo DE jaNeirO'\n",
    "\n",
    "print(nome_cidade.title()) # Rio De Janeiro\n",
    "print(nome_cidade.capitalize()) # Rio de janeiro\n",
    "print(nome_cidade.lower()) # rio de janeiro\n",
    "print(nome_cidade.upper()) # RIO DE JANEIRO"
   ]
  },
  {
   "cell_type": "code",
   "execution_count": 2,
   "id": "d03fd65e",
   "metadata": {},
   "outputs": [
    {
     "name": "stdout",
     "output_type": "stream",
     "text": [
      "Que cidade do Brasil é conehcida como cidade maravilhosa?porto alegre\n",
      "\n",
      "Tente novamente\n",
      "Que cidade do Brasil é conehcida como cidade maravilhosa?rio de janeiro\n",
      "\n",
      "Boooa, campeão!\n"
     ]
    }
   ],
   "source": [
    "nome_cidade = input('Que cidade do Brasil é conehcida como cidade maravilhosa?')\n",
    "nome_cidade = nome_cidade.strip()\n",
    "while nome_cidade.lower() != 'rio de janeiro':\n",
    "    print('\\nTente novamente')\n",
    "    nome_cidade = input('Que cidade do Brasil é conehcida como cidade maravilhosa?')\n",
    "\n",
    "print('\\nBoooa, campeão!')"
   ]
  },
  {
   "cell_type": "code",
   "execution_count": 3,
   "id": "d28f87dc",
   "metadata": {},
   "outputs": [
    {
     "name": "stdout",
     "output_type": "stream",
     "text": [
      "True\n"
     ]
    }
   ],
   "source": [
    "# operador IN em strings funciona como nas listas\n",
    "\n",
    "mensagem = 'Você viu o que o Pietro disse na sala ontem?'\n",
    "fui_citado = 'Pietro' in mensagem\n",
    "\n",
    "print(fui_citado)"
   ]
  },
  {
   "cell_type": "code",
   "execution_count": null,
   "id": "df69b07b",
   "metadata": {},
   "outputs": [],
   "source": []
  }
 ],
 "metadata": {
  "kernelspec": {
   "display_name": "Python 3 (ipykernel)",
   "language": "python",
   "name": "python3"
  },
  "language_info": {
   "codemirror_mode": {
    "name": "ipython",
    "version": 3
   },
   "file_extension": ".py",
   "mimetype": "text/x-python",
   "name": "python",
   "nbconvert_exporter": "python",
   "pygments_lexer": "ipython3",
   "version": "3.9.12"
  }
 },
 "nbformat": 4,
 "nbformat_minor": 5
}
