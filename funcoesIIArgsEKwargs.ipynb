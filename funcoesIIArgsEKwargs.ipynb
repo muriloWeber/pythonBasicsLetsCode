{
 "cells": [
  {
   "cell_type": "code",
   "execution_count": 1,
   "id": "f509ca3b",
   "metadata": {},
   "outputs": [],
   "source": [
    "# Receber parâmetros variáveis na função\n",
    "\n",
    "# Pra receber quantos parametros o usuário quiser args\n",
    "\n",
    "def calcula_media(*args):\n",
    "    print(args, type(args))"
   ]
  },
  {
   "cell_type": "code",
   "execution_count": 2,
   "id": "279f7262",
   "metadata": {},
   "outputs": [
    {
     "name": "stdout",
     "output_type": "stream",
     "text": [
      "(10, 8, 9) <class 'tuple'>\n"
     ]
    }
   ],
   "source": [
    "calcula_media(10,8,9)"
   ]
  },
  {
   "cell_type": "code",
   "execution_count": 5,
   "id": "dcd0d23a",
   "metadata": {},
   "outputs": [],
   "source": [
    "def calcula_media(*args, margem):\n",
    "    soma = sum(args)\n",
    "    media = soma / len(args)\n",
    "    return media + margem"
   ]
  },
  {
   "cell_type": "code",
   "execution_count": 6,
   "id": "1df32b1a",
   "metadata": {},
   "outputs": [
    {
     "data": {
      "text/plain": [
       "9.3"
      ]
     },
     "execution_count": 6,
     "metadata": {},
     "output_type": "execute_result"
    }
   ],
   "source": [
    "calcula_media(9,10,8, margem=0.3) # o que não for args deve ser explicitamente definido (no caso 'margem')"
   ]
  },
  {
   "cell_type": "code",
   "execution_count": 7,
   "id": "f080c6e7",
   "metadata": {},
   "outputs": [],
   "source": [
    "# **kwargs se torna um dicionário com pares de chave valor dos parâmetros passados na execução da função \n",
    "\n",
    "def print_info(**kwargs):\n",
    "    print(kwargs, type(kwargs))"
   ]
  },
  {
   "cell_type": "code",
   "execution_count": 8,
   "id": "eeb6c252",
   "metadata": {},
   "outputs": [
    {
     "name": "stdout",
     "output_type": "stream",
     "text": [
      "{'nome': 'Pietro', 'sobrenome': 'Ribeiro'} <class 'dict'>\n"
     ]
    }
   ],
   "source": [
    "# os parâmetros que são do kwargs devem ser chamados\n",
    "\n",
    "print_info(nome='Pietro', sobrenome='Ribeiro')"
   ]
  },
  {
   "cell_type": "code",
   "execution_count": null,
   "id": "52973257",
   "metadata": {},
   "outputs": [],
   "source": []
  }
 ],
 "metadata": {
  "kernelspec": {
   "display_name": "Python 3 (ipykernel)",
   "language": "python",
   "name": "python3"
  },
  "language_info": {
   "codemirror_mode": {
    "name": "ipython",
    "version": 3
   },
   "file_extension": ".py",
   "mimetype": "text/x-python",
   "name": "python",
   "nbconvert_exporter": "python",
   "pygments_lexer": "ipython3",
   "version": "3.9.12"
  }
 },
 "nbformat": 4,
 "nbformat_minor": 5
}
